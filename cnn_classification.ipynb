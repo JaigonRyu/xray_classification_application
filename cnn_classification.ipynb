{
 "cells": [
  {
   "cell_type": "code",
   "execution_count": 12,
   "metadata": {},
   "outputs": [],
   "source": [
    "#import pandas as pd\n",
    "import numpy as np\n",
    "import os\n",
    "import matplotlib.pyplot as plt\n",
    "import cv2\n",
    "import shutil\n",
    "import torch\n"
   ]
  },
  {
   "cell_type": "code",
   "execution_count": 2,
   "metadata": {},
   "outputs": [
    {
     "name": "stdout",
     "output_type": "stream",
     "text": [
      "c:\\Users\\jacob\\OneDrive\\Documents\\GitHub\\xray_classification_application\\MURA-v1.1\\train\n",
      "c:\\Users\\jacob\\OneDrive\\Documents\\GitHub\\xray_classification_application\\MURA-v1.1\\test\n"
     ]
    }
   ],
   "source": [
    "base_path_train = \"./MURA-v1.1/train\"\n",
    "print(os.path.abspath(base_path_train))\n",
    "\n",
    "base_path_test = \"./MURA-v1.1/test\"\n",
    "print(os.path.abspath(base_path_test))"
   ]
  },
  {
   "cell_type": "markdown",
   "metadata": {},
   "source": [
    "# CNN"
   ]
  },
  {
   "cell_type": "code",
   "execution_count": 8,
   "metadata": {},
   "outputs": [],
   "source": [
    "import torch.nn as nn\n",
    "import torch.nn.functional as F\n",
    "import torch.optim as optim\n",
    "import torch\n",
    "import csv\n",
    "import torchvision.datasets as datasets\n",
    "import torchvision.transforms as transforms\n",
    "from torch.utils.data import DataLoader, Dataset\n",
    "#from torchvision import datasets"
   ]
  },
  {
   "cell_type": "markdown",
   "metadata": {},
   "source": [
    "## Custom Dataset for Nested Structure of MURA"
   ]
  },
  {
   "cell_type": "code",
   "execution_count": 83,
   "metadata": {},
   "outputs": [
    {
     "name": "stdout",
     "output_type": "stream",
     "text": [
      "MURA dataset successfully restructured in: path_to_restructured_MURA\n"
     ]
    }
   ],
   "source": [
    "import os\n",
    "import shutil\n",
    "\n",
    "def restructure_mura(base_path, output_path):\n",
    "    # Define train/valid directories\n",
    "    for split in [\"train\", \"valid\"]:\n",
    "        input_dir = os.path.join(base_path, split)\n",
    "        output_dir = os.path.join(output_path, split)\n",
    "\n",
    "        # Create positive and negative folders\n",
    "        pos_dir = os.path.join(output_dir, \"positive\")\n",
    "        neg_dir = os.path.join(output_dir, \"negative\")\n",
    "        os.makedirs(pos_dir, exist_ok=True)\n",
    "        os.makedirs(neg_dir, exist_ok=True)\n",
    "\n",
    "        # Iterate through modality folders (e.g., XR_WRIST, XR_ELBOW, etc.)\n",
    "        for modality in os.listdir(input_dir):\n",
    "            modality_path = os.path.join(input_dir, modality)\n",
    "            if os.path.isdir(modality_path):\n",
    "                for patient in os.listdir(modality_path):\n",
    "                    patient_path = os.path.join(modality_path, patient)\n",
    "                    if os.path.isdir(patient_path):\n",
    "                        for study in os.listdir(patient_path):\n",
    "                            study_path = os.path.join(patient_path, study)\n",
    "                            if os.path.isdir(study_path):\n",
    "                                # Determine if study is positive or negative\n",
    "                                if \"positive\" in study:\n",
    "                                    target_folder = pos_dir\n",
    "                                else:\n",
    "                                    target_folder = neg_dir\n",
    "                                \n",
    "                                # Move all images into corresponding class folder\n",
    "                                for image in os.listdir(study_path):\n",
    "                                    image_path = os.path.join(study_path, image)\n",
    "                                    new_image_path = os.path.join(target_folder, f\"{patient}_{study}_{image}\")\n",
    "                                    \n",
    "                                    if not os.path.exists(new_image_path):  # Avoid overwriting\n",
    "                                        shutil.copy2(image_path, new_image_path)  \n",
    "\n",
    "    print(f\"MURA dataset successfully restructured in: {output_path}\")\n",
    "\n",
    "# Example Usage\n",
    "base_path = \"MURA-v1.1\"\n",
    "output_path = \"path_to_restructured_MURA\"\n",
    "restructure_mura(base_path, output_path)\n"
   ]
  },
  {
   "cell_type": "code",
   "execution_count": 3,
   "metadata": {},
   "outputs": [],
   "source": [
    "from torchvision import datasets, transforms\n",
    "from torch.utils.data import DataLoader\n",
    "from PIL import Image\n",
    "\n",
    "class SafeImageFolder(datasets.ImageFolder):\n",
    "    def __getitem__(self, index):\n",
    "        try:\n",
    "            return super().__getitem__(index)\n",
    "        except (FileNotFoundError, OSError):\n",
    "            print(f\"Skipping corrupt image at index {index}\")\n",
    "            return self.__getitem__((index + 1) % len(self))  # Move to next image"
   ]
  },
  {
   "cell_type": "code",
   "execution_count": 4,
   "metadata": {},
   "outputs": [],
   "source": [
    "transform = transforms.Compose([\n",
    "    transforms.Resize((128, 128)),\n",
    "    transforms.Grayscale(num_output_channels=1),\n",
    "    transforms.ToTensor(),\n",
    "\n",
    "])\n",
    "\n",
    "train_dataset = SafeImageFolder(root=\"path_to_restructured_MURA/train\", transform=transform)\n",
    "valid_dataset = SafeImageFolder(root=\"path_to_restructured_MURA/valid\", transform=transform)"
   ]
  },
  {
   "cell_type": "code",
   "execution_count": 5,
   "metadata": {},
   "outputs": [],
   "source": [
    "train_loader = DataLoader(train_dataset, batch_size=32, shuffle=True)"
   ]
  },
  {
   "cell_type": "code",
   "execution_count": 6,
   "metadata": {},
   "outputs": [],
   "source": [
    "test_loader = DataLoader(valid_dataset, batch_size=32, shuffle=True)"
   ]
  },
  {
   "cell_type": "code",
   "execution_count": 9,
   "metadata": {},
   "outputs": [
    {
     "name": "stdout",
     "output_type": "stream",
     "text": [
      "cuda\n"
     ]
    }
   ],
   "source": [
    "device = torch.device('cuda' if torch.cuda.is_available() else 'cpu')\n",
    "print(device)"
   ]
  },
  {
   "cell_type": "code",
   "execution_count": 13,
   "metadata": {},
   "outputs": [
    {
     "data": {
      "image/png": "[encoded data removed]",
      "text/plain": [
       "<Figure size 1200x300 with 5 Axes>"
      ]
     },
     "metadata": {},
     "output_type": "display_data"
    }
   ],
   "source": [
    "# Get a batch of images\n",
    "dataiter = iter(train_loader)\n",
    "images, labels = next(dataiter)\n",
    "#for image in images:\n",
    "    #print(image.shape)\n",
    "\n",
    "# Plot first 5 images\n",
    "fig, axes = plt.subplots(1, 5, figsize=(12, 3))\n",
    "for i in range(5):\n",
    "    axes[i].imshow(images[i].permute(1, 2, 0).squeeze(), cmap=\"gray\")\n",
    "    axes[i].set_title(f\"Label: {labels[i].item()}\")\n",
    "    axes[i].axis(\"off\")\n",
    "plt.show()"
   ]
  },
  {
   "cell_type": "code",
   "execution_count": 14,
   "metadata": {},
   "outputs": [
    {
     "name": "stdout",
     "output_type": "stream",
     "text": [
      "Batch Image Shape: torch.Size([32, 1, 128, 128]), Batch Labels Shape: torch.Size([32])\n"
     ]
    }
   ],
   "source": [
    "# Example to iterate through the DataLoader\n",
    "for images, labels in train_loader:\n",
    "    print(f\"Batch Image Shape: {images.shape}, Batch Labels Shape: {labels.shape}\")\n",
    "    break"
   ]
  },
  {
   "cell_type": "markdown",
   "metadata": {},
   "source": [
    "# Building CNN"
   ]
  },
  {
   "cell_type": "code",
   "execution_count": 15,
   "metadata": {},
   "outputs": [],
   "source": [
    "from torch.nn import Module\n",
    "from torch.nn import Conv2d\n",
    "from torch.nn import Linear\n",
    "from torch.nn import MaxPool2d\n",
    "from torch.nn import ReLU\n",
    "from torch.nn import LogSoftmax\n",
    "from torch import flatten\n",
    "\n",
    "from tqdm import tqdm "
   ]
  },
  {
   "cell_type": "code",
   "execution_count": 16,
   "metadata": {},
   "outputs": [
    {
     "name": "stdout",
     "output_type": "stream",
     "text": [
      "torch.Size([1, 2])\n"
     ]
    }
   ],
   "source": [
    "import torch\n",
    "import torch.nn as nn\n",
    "\n",
    "class MURA_CNN(nn.Module):\n",
    "    def __init__(self, num_classes): #num_classes will depend on the MURA task\n",
    "        super(MURA_CNN, self).__init__()\n",
    "\n",
    "        self.conv1 = nn.Conv2d(in_channels=1, out_channels=16, kernel_size=3, stride=1, padding=1)\n",
    "        self.relu1 = nn.ReLU()\n",
    "        self.pool1 = nn.MaxPool2d(kernel_size=2, stride=2)  # Halves the spatial dimensions\n",
    "\n",
    "        self.conv2 = nn.Conv2d(in_channels=16, out_channels=32, kernel_size=3, stride=1, padding=1)\n",
    "        self.relu2 = nn.ReLU()\n",
    "        self.pool2 = nn.MaxPool2d(kernel_size=2, stride=2)  # Halves again\n",
    "\n",
    "        self.conv3 = nn.Conv2d(in_channels=32, out_channels=64, kernel_size=3, stride=1, padding=1)\n",
    "        self.relu3 = nn.ReLU()\n",
    "        self.pool3 = nn.MaxPool2d(kernel_size=2, stride=2)  # Halves again\n",
    "\n",
    "        # Calculate the flattened size after pooling\n",
    "        self.flattened_size = 64 * 16 * 16  # 128 / 2 / 2 / 2 = 16\n",
    "\n",
    "        self.fc1 = nn.Linear(self.flattened_size, 128)\n",
    "        self.relu4 = nn.ReLU()\n",
    "        self.fc2 = nn.Linear(128, num_classes) #Output layer.\n",
    "\n",
    "    def forward(self, x):\n",
    "        x = self.pool1(self.relu1(self.conv1(x)))\n",
    "        x = self.pool2(self.relu2(self.conv2(x)))\n",
    "        x = self.pool3(self.relu3(self.conv3(x)))\n",
    "\n",
    "        x = x.view(-1, self.flattened_size)  # Flatten the tensor\n",
    "        x = self.relu4(self.fc1(x))\n",
    "        x = self.fc2(x)\n",
    "        return x\n",
    "\n",
    "# Example Usage:\n",
    "num_classes = 2 #binary classification example.\n",
    "model = MURA_CNN(num_classes)\n",
    "input_tensor = torch.randn(1, 1, 128, 128)  # Example input\n",
    "output = model(input_tensor)\n",
    "print(output.shape)"
   ]
  },
  {
   "cell_type": "code",
   "execution_count": 17,
   "metadata": {},
   "outputs": [],
   "source": [
    "num_classes = 2  # Replace with the number of classes in your MURA task\n",
    "model = MURA_CNN(num_classes)\n",
    "criterion = nn.CrossEntropyLoss()\n",
    "optimizer = optim.Adam(model.parameters(), lr=0.001)\n",
    "num_epochs = 10\n"
   ]
  },
  {
   "cell_type": "code",
   "execution_count": 18,
   "metadata": {},
   "outputs": [
    {
     "name": "stderr",
     "output_type": "stream",
     "text": [
      "  0%|          | 0/10 [00:00<?, ?it/s]"
     ]
    },
    {
     "name": "stdout",
     "output_type": "stream",
     "text": [
      "Epoch 1/10, Loss: 0.6635857712063524\n"
     ]
    },
    {
     "name": "stderr",
     "output_type": "stream",
     "text": [
      " 10%|█         | 1/10 [04:26<39:57, 266.39s/it]"
     ]
    },
    {
     "name": "stdout",
     "output_type": "stream",
     "text": [
      "Accuracy of the network on the test images: 54.247660187185026 %\n",
      "Epoch 2/10, Loss: 0.6435717108624953\n"
     ]
    },
    {
     "name": "stderr",
     "output_type": "stream",
     "text": [
      " 20%|██        | 2/10 [08:21<33:05, 248.24s/it]"
     ]
    },
    {
     "name": "stdout",
     "output_type": "stream",
     "text": [
      "Accuracy of the network on the test images: 56.8394528437725 %\n",
      "Epoch 3/10, Loss: 0.6224293965432379\n"
     ]
    },
    {
     "name": "stderr",
     "output_type": "stream",
     "text": [
      " 30%|███       | 3/10 [12:17<28:17, 242.46s/it]"
     ]
    },
    {
     "name": "stdout",
     "output_type": "stream",
     "text": [
      "Accuracy of the network on the test images: 59.50323974082073 %\n",
      "Epoch 4/10, Loss: 0.5921146239119547\n"
     ]
    },
    {
     "name": "stderr",
     "output_type": "stream",
     "text": [
      " 40%|████      | 4/10 [16:14<24:00, 240.11s/it]"
     ]
    },
    {
     "name": "stdout",
     "output_type": "stream",
     "text": [
      "Accuracy of the network on the test images: 62.706983441324695 %\n",
      "Epoch 5/10, Loss: 0.5452703461050987\n"
     ]
    },
    {
     "name": "stderr",
     "output_type": "stream",
     "text": [
      " 50%|█████     | 5/10 [20:10<19:54, 238.97s/it]"
     ]
    },
    {
     "name": "stdout",
     "output_type": "stream",
     "text": [
      "Accuracy of the network on the test images: 61.98704103671706 %\n",
      "Epoch 6/10, Loss: 0.48653861262180187\n"
     ]
    },
    {
     "name": "stderr",
     "output_type": "stream",
     "text": [
      " 60%|██████    | 6/10 [24:06<15:51, 237.88s/it]"
     ]
    },
    {
     "name": "stdout",
     "output_type": "stream",
     "text": [
      "Accuracy of the network on the test images: 61.98704103671706 %\n",
      "Epoch 7/10, Loss: 0.4062432129625921\n"
     ]
    },
    {
     "name": "stderr",
     "output_type": "stream",
     "text": [
      " 70%|███████   | 7/10 [28:02<11:51, 237.19s/it]"
     ]
    },
    {
     "name": "stdout",
     "output_type": "stream",
     "text": [
      "Accuracy of the network on the test images: 62.05903527717783 %\n",
      "Epoch 8/10, Loss: 0.31459826519367873\n"
     ]
    },
    {
     "name": "stderr",
     "output_type": "stream",
     "text": [
      " 80%|████████  | 8/10 [31:58<07:53, 236.91s/it]"
     ]
    },
    {
     "name": "stdout",
     "output_type": "stream",
     "text": [
      "Accuracy of the network on the test images: 60.22318214542837 %\n",
      "Epoch 9/10, Loss: 0.2276138731899361\n"
     ]
    },
    {
     "name": "stderr",
     "output_type": "stream",
     "text": [
      " 90%|█████████ | 9/10 [35:54<03:56, 236.69s/it]"
     ]
    },
    {
     "name": "stdout",
     "output_type": "stream",
     "text": [
      "Accuracy of the network on the test images: 60.69114470842332 %\n",
      "Epoch 10/10, Loss: 0.15592929613776504\n"
     ]
    },
    {
     "name": "stderr",
     "output_type": "stream",
     "text": [
      "100%|██████████| 10/10 [39:50<00:00, 239.07s/it]"
     ]
    },
    {
     "name": "stdout",
     "output_type": "stream",
     "text": [
      "Accuracy of the network on the test images: 61.19510439164867 %\n",
      "Finished Training\n"
     ]
    },
    {
     "name": "stderr",
     "output_type": "stream",
     "text": [
      "\n"
     ]
    }
   ],
   "source": [
    "# Training loop\n",
    "for epoch in tqdm(range(num_epochs)):\n",
    "    model.train()  # Set model to training mode\n",
    "    running_loss = 0.0\n",
    "    for inputs, labels in train_loader:\n",
    "        optimizer.zero_grad()  # Zero the parameter gradients\n",
    "        outputs = model(inputs)\n",
    "        loss = criterion(outputs, labels)\n",
    "        loss.backward()  # Backpropagation\n",
    "        optimizer.step()  # Update weights\n",
    "        running_loss += loss.item()\n",
    "\n",
    "    print(f\"Epoch {epoch+1}/{num_epochs}, Loss: {running_loss/len(train_loader)}\")\n",
    "\n",
    "    # Evaluation on the test set\n",
    "    model.eval() #set model to evaluation mode\n",
    "    correct = 0\n",
    "    total = 0\n",
    "    with torch.no_grad():\n",
    "        for inputs, labels in test_loader:\n",
    "            outputs = model(inputs)\n",
    "            _, predicted = torch.max(outputs.data, 1) #get the index of the max log-probability\n",
    "            total += labels.size(0)\n",
    "            correct += (predicted == labels).sum().item()\n",
    "\n",
    "    print(f'Accuracy of the network on the test images: {100 * correct / total} %')\n",
    "\n",
    "print(\"Finished Training\")"
   ]
  },
  {
   "cell_type": "markdown",
   "metadata": {},
   "source": []
  }
 ],
 "metadata": {
  "kernelspec": {
   "display_name": "mario_env_2",
   "language": "python",
   "name": "python3"
  },
  "language_info": {
   "codemirror_mode": {
    "name": "ipython",
    "version": 3
   },
   "file_extension": ".py",
   "mimetype": "text/x-python",
   "name": "python",
   "nbconvert_exporter": "python",
   "pygments_lexer": "ipython3",
   "version": "3.10.12"
  }
 },
 "nbformat": 4,
 "nbformat_minor": 2
}
